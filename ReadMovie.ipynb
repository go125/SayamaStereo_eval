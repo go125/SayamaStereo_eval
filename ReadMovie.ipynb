{
 "cells": [
  {
   "cell_type": "markdown",
   "metadata": {},
   "source": [
    "# DL Youtube Videos"
   ]
  },
  {
   "cell_type": "code",
   "execution_count": 6,
   "metadata": {},
   "outputs": [],
   "source": [
    "#URL=[\"https://youtu.be/0jXk66YTpw8\"]\n",
    "#Ce509"
   ]
  },
  {
   "cell_type": "code",
   "execution_count": 7,
   "metadata": {},
   "outputs": [],
   "source": [
    "#!youtube-dl URL[0]\n",
    "#I want to move this in the future."
   ]
  },
  {
   "cell_type": "code",
   "execution_count": 8,
   "metadata": {},
   "outputs": [],
   "source": [
    "#!youtube-dl -F https://youtu.be/0jXk66YTpw8"
   ]
  },
  {
   "cell_type": "code",
   "execution_count": 9,
   "metadata": {},
   "outputs": [],
   "source": [
    "#Available format is shown."
   ]
  },
  {
   "cell_type": "code",
   "execution_count": 10,
   "metadata": {},
   "outputs": [],
   "source": [
    "#!youtube-dl -f 137 https://youtu.be/0jXk66YTpw8"
   ]
  },
  {
   "cell_type": "code",
   "execution_count": null,
   "metadata": {},
   "outputs": [],
   "source": []
  },
  {
   "cell_type": "code",
   "execution_count": null,
   "metadata": {},
   "outputs": [],
   "source": []
  },
  {
   "cell_type": "code",
   "execution_count": null,
   "metadata": {},
   "outputs": [],
   "source": []
  },
  {
   "cell_type": "markdown",
   "metadata": {},
   "source": [
    "# Move the downloaded video in other dir."
   ]
  },
  {
   "cell_type": "code",
   "execution_count": 11,
   "metadata": {},
   "outputs": [],
   "source": [
    "#I want to write this in the future."
   ]
  },
  {
   "cell_type": "code",
   "execution_count": null,
   "metadata": {},
   "outputs": [],
   "source": []
  },
  {
   "cell_type": "markdown",
   "metadata": {},
   "source": [
    "# Extract Frames"
   ]
  },
  {
   "cell_type": "code",
   "execution_count": 12,
   "metadata": {},
   "outputs": [],
   "source": [
    "import cv2\n",
    "import os"
   ]
  },
  {
   "cell_type": "code",
   "execution_count": 23,
   "metadata": {},
   "outputs": [],
   "source": [
    "def extractFrames(pathIn, pathOut ,option=\"None\"):\n",
    "    if not os.path.exists(pathOut):\n",
    "        os.mkdir(pathOut)\n",
    "\n",
    "    cap = cv2.VideoCapture(pathIn)\n",
    "    count = 0\n",
    "\n",
    "    while (cap.isOpened()):\n",
    "\n",
    "        ret, frame = cap.read()\n",
    "\n",
    "        if ret == True:\n",
    "            init_height, init_width = frame.shape[:2]\n",
    "            #print(init_height)\n",
    "            #print(init_width)\n",
    "            HEIGHT=init_height//3\n",
    "            WIDTH=init_width\n",
    "            if option==\"top\":\n",
    "                frame =frame[0:HEIGHT,0:WIDTH] \n",
    "            if option==\"middle\":\n",
    "                frame =frame[HEIGHT:(HEIGHT*2),0:WIDTH] \n",
    "            if option==\"bottom\":\n",
    "                frame =frame[(HEIGHT*2):(HEIGHT*3),0:WIDTH] \n",
    "            cv2.imwrite(os.path.join(pathOut, \"frame_{:06d}.jpg\".format(count)), frame)\n",
    "            count += 1\n",
    "        else:\n",
    "            break\n",
    "\n",
    "    cap.release()\n",
    "    #cv2.destroyAllWindows()"
   ]
  },
  {
   "cell_type": "code",
   "execution_count": 24,
   "metadata": {},
   "outputs": [],
   "source": [
    "def main1():\n",
    "    extractFrames('../Ce509Test.mp4', '../all_video/video1/',\"top\")"
   ]
  },
  {
   "cell_type": "code",
   "execution_count": 25,
   "metadata": {},
   "outputs": [],
   "source": [
    "main1()"
   ]
  },
  {
   "cell_type": "code",
   "execution_count": 26,
   "metadata": {},
   "outputs": [],
   "source": [
    "def main2():\n",
    "    extractFrames('../Ce509Test.mp4', '../all_video/video2/',\"middle\")"
   ]
  },
  {
   "cell_type": "code",
   "execution_count": 27,
   "metadata": {},
   "outputs": [],
   "source": [
    "main2()"
   ]
  },
  {
   "cell_type": "code",
   "execution_count": 28,
   "metadata": {},
   "outputs": [],
   "source": [
    "def main3():\n",
    "    extractFrames('../Ce509Test.mp4', '../all_video/video3/',\"bottom\")"
   ]
  },
  {
   "cell_type": "code",
   "execution_count": 29,
   "metadata": {},
   "outputs": [],
   "source": [
    "main3()"
   ]
  },
  {
   "cell_type": "markdown",
   "metadata": {},
   "source": [
    "# Please don't execute below here. (Same content as GenData.py)"
   ]
  },
  {
   "cell_type": "code",
   "execution_count": null,
   "metadata": {},
   "outputs": [],
   "source": []
  },
  {
   "cell_type": "code",
   "execution_count": null,
   "metadata": {},
   "outputs": [],
   "source": []
  },
  {
   "cell_type": "code",
   "execution_count": null,
   "metadata": {},
   "outputs": [],
   "source": []
  },
  {
   "cell_type": "code",
   "execution_count": 18,
   "metadata": {},
   "outputs": [
    {
     "ename": "KeyboardInterrupt",
     "evalue": "",
     "output_type": "error",
     "traceback": [
      "\u001b[0;31m---------------------------------------------------------------------------\u001b[0m",
      "\u001b[0;31mKeyboardInterrupt\u001b[0m                         Traceback (most recent call last)",
      "\u001b[0;32m<ipython-input-18-6ab8bcc23d57>\u001b[0m in \u001b[0;36m<module>\u001b[0;34m\u001b[0m\n\u001b[1;32m      4\u001b[0m \u001b[0;32mimport\u001b[0m \u001b[0mmath\u001b[0m\u001b[0;34m\u001b[0m\u001b[0;34m\u001b[0m\u001b[0m\n\u001b[1;32m      5\u001b[0m \u001b[0;32mimport\u001b[0m \u001b[0mnumpy\u001b[0m \u001b[0;32mas\u001b[0m \u001b[0mnp\u001b[0m\u001b[0;34m\u001b[0m\u001b[0;34m\u001b[0m\u001b[0m\n\u001b[0;32m----> 6\u001b[0;31m \u001b[0;32mimport\u001b[0m \u001b[0mskimage\u001b[0m\u001b[0;34m.\u001b[0m\u001b[0mio\u001b[0m\u001b[0;34m\u001b[0m\u001b[0;34m\u001b[0m\u001b[0m\n\u001b[0m\u001b[1;32m      7\u001b[0m \u001b[0;32mimport\u001b[0m \u001b[0mmatplotlib\u001b[0m\u001b[0;34m\u001b[0m\u001b[0;34m\u001b[0m\u001b[0m\n\u001b[1;32m      8\u001b[0m \u001b[0;32mimport\u001b[0m \u001b[0mmatplotlib\u001b[0m\u001b[0;34m.\u001b[0m\u001b[0mpyplot\u001b[0m \u001b[0;32mas\u001b[0m \u001b[0mplt\u001b[0m\u001b[0;34m\u001b[0m\u001b[0;34m\u001b[0m\u001b[0m\n",
      "\u001b[0;32m/anaconda3/lib/python3.7/site-packages/skimage/__init__.py\u001b[0m in \u001b[0;36m<module>\u001b[0;34m\u001b[0m\n\u001b[1;32m    175\u001b[0m \u001b[0;34m\u001b[0m\u001b[0m\n\u001b[1;32m    176\u001b[0m     \u001b[0;32mfrom\u001b[0m \u001b[0;34m.\u001b[0m\u001b[0mutil\u001b[0m\u001b[0;34m.\u001b[0m\u001b[0mlookfor\u001b[0m \u001b[0;32mimport\u001b[0m \u001b[0mlookfor\u001b[0m\u001b[0;34m\u001b[0m\u001b[0;34m\u001b[0m\u001b[0m\n\u001b[0;32m--> 177\u001b[0;31m     \u001b[0;32mfrom\u001b[0m \u001b[0;34m.\u001b[0m\u001b[0mdata\u001b[0m \u001b[0;32mimport\u001b[0m \u001b[0mdata_dir\u001b[0m\u001b[0;34m\u001b[0m\u001b[0;34m\u001b[0m\u001b[0m\n\u001b[0m\u001b[1;32m    178\u001b[0m \u001b[0;34m\u001b[0m\u001b[0m\n\u001b[1;32m    179\u001b[0m \u001b[0;34m\u001b[0m\u001b[0m\n",
      "\u001b[0;32m/anaconda3/lib/python3.7/site-packages/skimage/data/__init__.py\u001b[0m in \u001b[0;36m<module>\u001b[0;34m\u001b[0m\n\u001b[1;32m     16\u001b[0m \u001b[0;32mfrom\u001b[0m \u001b[0;34m.\u001b[0m\u001b[0;34m.\u001b[0m\u001b[0m_shared\u001b[0m\u001b[0;34m.\u001b[0m\u001b[0m_warnings\u001b[0m \u001b[0;32mimport\u001b[0m \u001b[0mexpected_warnings\u001b[0m\u001b[0;34m,\u001b[0m \u001b[0mwarn\u001b[0m\u001b[0;34m\u001b[0m\u001b[0;34m\u001b[0m\u001b[0m\n\u001b[1;32m     17\u001b[0m \u001b[0;32mfrom\u001b[0m \u001b[0;34m.\u001b[0m\u001b[0;34m.\u001b[0m\u001b[0mutil\u001b[0m\u001b[0;34m.\u001b[0m\u001b[0mdtype\u001b[0m \u001b[0;32mimport\u001b[0m \u001b[0mimg_as_bool\u001b[0m\u001b[0;34m\u001b[0m\u001b[0;34m\u001b[0m\u001b[0m\n\u001b[0;32m---> 18\u001b[0;31m \u001b[0;32mfrom\u001b[0m \u001b[0;34m.\u001b[0m\u001b[0m_binary_blobs\u001b[0m \u001b[0;32mimport\u001b[0m \u001b[0mbinary_blobs\u001b[0m\u001b[0;34m\u001b[0m\u001b[0;34m\u001b[0m\u001b[0m\n\u001b[0m\u001b[1;32m     19\u001b[0m \u001b[0;34m\u001b[0m\u001b[0m\n\u001b[1;32m     20\u001b[0m \u001b[0;32mimport\u001b[0m \u001b[0mos\u001b[0m\u001b[0;34m.\u001b[0m\u001b[0mpath\u001b[0m \u001b[0;32mas\u001b[0m \u001b[0mosp\u001b[0m\u001b[0;34m\u001b[0m\u001b[0;34m\u001b[0m\u001b[0m\n",
      "\u001b[0;32m/anaconda3/lib/python3.7/site-packages/skimage/data/_binary_blobs.py\u001b[0m in \u001b[0;36m<module>\u001b[0;34m\u001b[0m\n\u001b[1;32m      1\u001b[0m \u001b[0;32mimport\u001b[0m \u001b[0mnumpy\u001b[0m \u001b[0;32mas\u001b[0m \u001b[0mnp\u001b[0m\u001b[0;34m\u001b[0m\u001b[0;34m\u001b[0m\u001b[0m\n\u001b[0;32m----> 2\u001b[0;31m \u001b[0;32mfrom\u001b[0m \u001b[0;34m.\u001b[0m\u001b[0;34m.\u001b[0m\u001b[0mfilters\u001b[0m \u001b[0;32mimport\u001b[0m \u001b[0mgaussian\u001b[0m\u001b[0;34m\u001b[0m\u001b[0;34m\u001b[0m\u001b[0m\n\u001b[0m\u001b[1;32m      3\u001b[0m \u001b[0;34m\u001b[0m\u001b[0m\n\u001b[1;32m      4\u001b[0m \u001b[0;34m\u001b[0m\u001b[0m\n\u001b[1;32m      5\u001b[0m def binary_blobs(length=512, blob_size_fraction=0.1, n_dim=2,\n",
      "\u001b[0;32m/anaconda3/lib/python3.7/site-packages/skimage/filters/__init__.py\u001b[0m in \u001b[0;36m<module>\u001b[0;34m\u001b[0m\n\u001b[1;32m      1\u001b[0m \u001b[0;32mfrom\u001b[0m \u001b[0;34m.\u001b[0m\u001b[0mlpi_filter\u001b[0m \u001b[0;32mimport\u001b[0m \u001b[0minverse\u001b[0m\u001b[0;34m,\u001b[0m \u001b[0mwiener\u001b[0m\u001b[0;34m,\u001b[0m \u001b[0mLPIFilter2D\u001b[0m\u001b[0;34m\u001b[0m\u001b[0;34m\u001b[0m\u001b[0m\n\u001b[1;32m      2\u001b[0m \u001b[0;32mfrom\u001b[0m \u001b[0;34m.\u001b[0m\u001b[0m_gaussian\u001b[0m \u001b[0;32mimport\u001b[0m \u001b[0mgaussian\u001b[0m\u001b[0;34m\u001b[0m\u001b[0;34m\u001b[0m\u001b[0m\n\u001b[0;32m----> 3\u001b[0;31m from .edges import (sobel, sobel_h, sobel_v,\n\u001b[0m\u001b[1;32m      4\u001b[0m                     \u001b[0mscharr\u001b[0m\u001b[0;34m,\u001b[0m \u001b[0mscharr_h\u001b[0m\u001b[0;34m,\u001b[0m \u001b[0mscharr_v\u001b[0m\u001b[0;34m,\u001b[0m\u001b[0;34m\u001b[0m\u001b[0;34m\u001b[0m\u001b[0m\n\u001b[1;32m      5\u001b[0m                     \u001b[0mprewitt\u001b[0m\u001b[0;34m,\u001b[0m \u001b[0mprewitt_h\u001b[0m\u001b[0;34m,\u001b[0m \u001b[0mprewitt_v\u001b[0m\u001b[0;34m,\u001b[0m\u001b[0;34m\u001b[0m\u001b[0;34m\u001b[0m\u001b[0m\n",
      "\u001b[0;32m/anaconda3/lib/python3.7/site-packages/skimage/filters/edges.py\u001b[0m in \u001b[0;36m<module>\u001b[0;34m\u001b[0m\n\u001b[1;32m     15\u001b[0m \u001b[0;32mfrom\u001b[0m \u001b[0mscipy\u001b[0m\u001b[0;34m.\u001b[0m\u001b[0mndimage\u001b[0m \u001b[0;32mimport\u001b[0m \u001b[0mconvolve\u001b[0m\u001b[0;34m,\u001b[0m \u001b[0mbinary_erosion\u001b[0m\u001b[0;34m,\u001b[0m \u001b[0mgenerate_binary_structure\u001b[0m\u001b[0;34m\u001b[0m\u001b[0;34m\u001b[0m\u001b[0m\n\u001b[1;32m     16\u001b[0m \u001b[0;34m\u001b[0m\u001b[0m\n\u001b[0;32m---> 17\u001b[0;31m \u001b[0;32mfrom\u001b[0m \u001b[0;34m.\u001b[0m\u001b[0;34m.\u001b[0m\u001b[0mrestoration\u001b[0m\u001b[0;34m.\u001b[0m\u001b[0muft\u001b[0m \u001b[0;32mimport\u001b[0m \u001b[0mlaplacian\u001b[0m\u001b[0;34m\u001b[0m\u001b[0;34m\u001b[0m\u001b[0m\n\u001b[0m\u001b[1;32m     18\u001b[0m \u001b[0;34m\u001b[0m\u001b[0m\n\u001b[1;32m     19\u001b[0m \u001b[0mEROSION_SELEM\u001b[0m \u001b[0;34m=\u001b[0m \u001b[0mgenerate_binary_structure\u001b[0m\u001b[0;34m(\u001b[0m\u001b[0;36m2\u001b[0m\u001b[0;34m,\u001b[0m \u001b[0;36m2\u001b[0m\u001b[0;34m)\u001b[0m\u001b[0;34m\u001b[0m\u001b[0;34m\u001b[0m\u001b[0m\n",
      "\u001b[0;32m/anaconda3/lib/python3.7/site-packages/skimage/restoration/__init__.py\u001b[0m in \u001b[0;36m<module>\u001b[0;34m\u001b[0m\n\u001b[1;32m      4\u001b[0m \"\"\"\n\u001b[1;32m      5\u001b[0m \u001b[0;34m\u001b[0m\u001b[0m\n\u001b[0;32m----> 6\u001b[0;31m \u001b[0;32mfrom\u001b[0m \u001b[0;34m.\u001b[0m\u001b[0mdeconvolution\u001b[0m \u001b[0;32mimport\u001b[0m \u001b[0mwiener\u001b[0m\u001b[0;34m,\u001b[0m \u001b[0munsupervised_wiener\u001b[0m\u001b[0;34m,\u001b[0m \u001b[0mrichardson_lucy\u001b[0m\u001b[0;34m\u001b[0m\u001b[0;34m\u001b[0m\u001b[0m\n\u001b[0m\u001b[1;32m      7\u001b[0m \u001b[0;32mfrom\u001b[0m \u001b[0;34m.\u001b[0m\u001b[0munwrap\u001b[0m \u001b[0;32mimport\u001b[0m \u001b[0munwrap_phase\u001b[0m\u001b[0;34m\u001b[0m\u001b[0;34m\u001b[0m\u001b[0m\n\u001b[1;32m      8\u001b[0m from ._denoise import (denoise_tv_chambolle, denoise_tv_bregman,\n",
      "\u001b[0;32m/anaconda3/lib/python3.7/site-packages/skimage/restoration/deconvolution.py\u001b[0m in \u001b[0;36m<module>\u001b[0;34m\u001b[0m\n\u001b[1;32m      8\u001b[0m \u001b[0;32mimport\u001b[0m \u001b[0mnumpy\u001b[0m \u001b[0;32mas\u001b[0m \u001b[0mnp\u001b[0m\u001b[0;34m\u001b[0m\u001b[0;34m\u001b[0m\u001b[0m\n\u001b[1;32m      9\u001b[0m \u001b[0;32mimport\u001b[0m \u001b[0mnumpy\u001b[0m\u001b[0;34m.\u001b[0m\u001b[0mrandom\u001b[0m \u001b[0;32mas\u001b[0m \u001b[0mnpr\u001b[0m\u001b[0;34m\u001b[0m\u001b[0;34m\u001b[0m\u001b[0m\n\u001b[0;32m---> 10\u001b[0;31m \u001b[0;32mfrom\u001b[0m \u001b[0mscipy\u001b[0m\u001b[0;34m.\u001b[0m\u001b[0msignal\u001b[0m \u001b[0;32mimport\u001b[0m \u001b[0mfftconvolve\u001b[0m\u001b[0;34m,\u001b[0m \u001b[0mconvolve\u001b[0m\u001b[0;34m\u001b[0m\u001b[0;34m\u001b[0m\u001b[0m\n\u001b[0m\u001b[1;32m     11\u001b[0m \u001b[0;34m\u001b[0m\u001b[0m\n\u001b[1;32m     12\u001b[0m \u001b[0;32mfrom\u001b[0m \u001b[0;34m.\u001b[0m \u001b[0;32mimport\u001b[0m \u001b[0muft\u001b[0m\u001b[0;34m\u001b[0m\u001b[0;34m\u001b[0m\u001b[0m\n",
      "\u001b[0;32m/anaconda3/lib/python3.7/site-packages/scipy/signal/__init__.py\u001b[0m in \u001b[0;36m<module>\u001b[0;34m\u001b[0m\n\u001b[1;32m    299\u001b[0m \u001b[0;34m\u001b[0m\u001b[0m\n\u001b[1;32m    300\u001b[0m \u001b[0;32mfrom\u001b[0m \u001b[0;34m.\u001b[0m\u001b[0mbsplines\u001b[0m \u001b[0;32mimport\u001b[0m \u001b[0;34m*\u001b[0m\u001b[0;34m\u001b[0m\u001b[0;34m\u001b[0m\u001b[0m\n\u001b[0;32m--> 301\u001b[0;31m \u001b[0;32mfrom\u001b[0m \u001b[0;34m.\u001b[0m\u001b[0mfilter_design\u001b[0m \u001b[0;32mimport\u001b[0m \u001b[0;34m*\u001b[0m\u001b[0;34m\u001b[0m\u001b[0;34m\u001b[0m\u001b[0m\n\u001b[0m\u001b[1;32m    302\u001b[0m \u001b[0;32mfrom\u001b[0m \u001b[0;34m.\u001b[0m\u001b[0mfir_filter_design\u001b[0m \u001b[0;32mimport\u001b[0m \u001b[0;34m*\u001b[0m\u001b[0;34m\u001b[0m\u001b[0;34m\u001b[0m\u001b[0m\n\u001b[1;32m    303\u001b[0m \u001b[0;32mfrom\u001b[0m \u001b[0;34m.\u001b[0m\u001b[0mltisys\u001b[0m \u001b[0;32mimport\u001b[0m \u001b[0;34m*\u001b[0m\u001b[0;34m\u001b[0m\u001b[0;34m\u001b[0m\u001b[0m\n",
      "\u001b[0;32m/anaconda3/lib/python3.7/site-packages/scipy/signal/filter_design.py\u001b[0m in \u001b[0;36m<module>\u001b[0;34m\u001b[0m\n\u001b[1;32m     16\u001b[0m \u001b[0;32mfrom\u001b[0m \u001b[0mnumpy\u001b[0m\u001b[0;34m.\u001b[0m\u001b[0mpolynomial\u001b[0m\u001b[0;34m.\u001b[0m\u001b[0mpolynomial\u001b[0m \u001b[0;32mimport\u001b[0m \u001b[0mpolyval\u001b[0m \u001b[0;32mas\u001b[0m \u001b[0mnpp_polyval\u001b[0m\u001b[0;34m\u001b[0m\u001b[0;34m\u001b[0m\u001b[0m\n\u001b[1;32m     17\u001b[0m \u001b[0;34m\u001b[0m\u001b[0m\n\u001b[0;32m---> 18\u001b[0;31m \u001b[0;32mfrom\u001b[0m \u001b[0mscipy\u001b[0m \u001b[0;32mimport\u001b[0m \u001b[0mspecial\u001b[0m\u001b[0;34m,\u001b[0m \u001b[0moptimize\u001b[0m\u001b[0;34m,\u001b[0m \u001b[0mfft\u001b[0m \u001b[0;32mas\u001b[0m \u001b[0msp_fft\u001b[0m\u001b[0;34m\u001b[0m\u001b[0;34m\u001b[0m\u001b[0m\n\u001b[0m\u001b[1;32m     19\u001b[0m \u001b[0;32mfrom\u001b[0m \u001b[0mscipy\u001b[0m\u001b[0;34m.\u001b[0m\u001b[0mspecial\u001b[0m \u001b[0;32mimport\u001b[0m \u001b[0mcomb\u001b[0m\u001b[0;34m,\u001b[0m \u001b[0mfactorial\u001b[0m\u001b[0;34m\u001b[0m\u001b[0;34m\u001b[0m\u001b[0m\n\u001b[1;32m     20\u001b[0m \u001b[0;32mfrom\u001b[0m \u001b[0mscipy\u001b[0m\u001b[0;34m.\u001b[0m\u001b[0m_lib\u001b[0m\u001b[0;34m.\u001b[0m\u001b[0m_numpy_compat\u001b[0m \u001b[0;32mimport\u001b[0m \u001b[0mpolyvalfromroots\u001b[0m\u001b[0;34m\u001b[0m\u001b[0;34m\u001b[0m\u001b[0m\n",
      "\u001b[0;32m/anaconda3/lib/python3.7/site-packages/scipy/optimize/__init__.py\u001b[0m in \u001b[0;36m<module>\u001b[0;34m\u001b[0m\n\u001b[1;32m    398\u001b[0m \u001b[0;32mfrom\u001b[0m \u001b[0;34m.\u001b[0m\u001b[0mnonlin\u001b[0m \u001b[0;32mimport\u001b[0m \u001b[0;34m*\u001b[0m\u001b[0;34m\u001b[0m\u001b[0;34m\u001b[0m\u001b[0m\n\u001b[1;32m    399\u001b[0m \u001b[0;32mfrom\u001b[0m \u001b[0;34m.\u001b[0m\u001b[0mslsqp\u001b[0m \u001b[0;32mimport\u001b[0m \u001b[0mfmin_slsqp\u001b[0m\u001b[0;34m\u001b[0m\u001b[0;34m\u001b[0m\u001b[0m\n\u001b[0;32m--> 400\u001b[0;31m \u001b[0;32mfrom\u001b[0m \u001b[0;34m.\u001b[0m\u001b[0mnnls\u001b[0m \u001b[0;32mimport\u001b[0m \u001b[0mnnls\u001b[0m\u001b[0;34m\u001b[0m\u001b[0;34m\u001b[0m\u001b[0m\n\u001b[0m\u001b[1;32m    401\u001b[0m \u001b[0;32mfrom\u001b[0m \u001b[0;34m.\u001b[0m\u001b[0m_basinhopping\u001b[0m \u001b[0;32mimport\u001b[0m \u001b[0mbasinhopping\u001b[0m\u001b[0;34m\u001b[0m\u001b[0;34m\u001b[0m\u001b[0m\n\u001b[1;32m    402\u001b[0m \u001b[0;32mfrom\u001b[0m \u001b[0;34m.\u001b[0m\u001b[0m_linprog\u001b[0m \u001b[0;32mimport\u001b[0m \u001b[0mlinprog\u001b[0m\u001b[0;34m,\u001b[0m \u001b[0mlinprog_verbose_callback\u001b[0m\u001b[0;34m\u001b[0m\u001b[0;34m\u001b[0m\u001b[0m\n",
      "\u001b[0;32m/anaconda3/lib/python3.7/importlib/_bootstrap.py\u001b[0m in \u001b[0;36m_find_and_load\u001b[0;34m(name, import_)\u001b[0m\n",
      "\u001b[0;32m/anaconda3/lib/python3.7/importlib/_bootstrap.py\u001b[0m in \u001b[0;36m_find_and_load_unlocked\u001b[0;34m(name, import_)\u001b[0m\n",
      "\u001b[0;32m/anaconda3/lib/python3.7/importlib/_bootstrap.py\u001b[0m in \u001b[0;36m_load_unlocked\u001b[0;34m(spec)\u001b[0m\n",
      "\u001b[0;32m/anaconda3/lib/python3.7/importlib/_bootstrap_external.py\u001b[0m in \u001b[0;36mexec_module\u001b[0;34m(self, module)\u001b[0m\n",
      "\u001b[0;32m/anaconda3/lib/python3.7/importlib/_bootstrap_external.py\u001b[0m in \u001b[0;36mget_code\u001b[0;34m(self, fullname)\u001b[0m\n",
      "\u001b[0;32m/anaconda3/lib/python3.7/importlib/_bootstrap_external.py\u001b[0m in \u001b[0;36mget_data\u001b[0;34m(self, path)\u001b[0m\n",
      "\u001b[0;31mKeyboardInterrupt\u001b[0m: "
     ]
    }
   ],
   "source": [
    "import os\n",
    "import sys\n",
    "import random\n",
    "import math\n",
    "import numpy as np\n",
    "import skimage.io\n",
    "import matplotlib\n",
    "import matplotlib.pyplot as plt\n",
    "import numpy as np\n",
    "from xml.etree import ElementTree\n",
    "from xml.dom import minidom\n",
    "import collections\n",
    "import matplotlib as matplot\n",
    "import seaborn as sns\n",
    "import cv2\n",
    "import shutil\n",
    "from absl import app\n",
    "from absl import flags\n",
    "from absl import logging\n",
    "import glob\n",
    "import alignment\n",
    "from alignment import compute_overlap\n",
    "from alignment import align"
   ]
  },
  {
   "cell_type": "code",
   "execution_count": null,
   "metadata": {},
   "outputs": [],
   "source": [
    "#video_path\n",
    "base_path = \"/home/ubuntu/data/all_video/\"\n",
    "# Root directory of the RCNN project\n",
    "ROOT_DIR = os.path.abspath(\"../Mask_RCNN\")\n",
    "# result WIDTH and HEIGHT\n",
    "WIDTH = 416\n",
    "HEIGHT = 128\n",
    "# calib_cam_to_cam.txt path\n",
    "INPUT_TXT_FILE=\"./calib_cam_to_cam.txt\"\n",
    "# result seq length\n",
    "SEQ_LENGTH = 3\n",
    "# result step size\n",
    "STEPSIZE = 1\n",
    "#result output dir\n",
    "OUTPUT_DIR = '../out'\n",
    "#temp data dir\n",
    "TEMP_DIR=\"../tmp\""
   ]
  },
  {
   "cell_type": "code",
   "execution_count": null,
   "metadata": {},
   "outputs": [],
   "source": [
    "# Import Mask RCNN\n",
    "sys.path.append(ROOT_DIR)  # To find local version of the library\n",
    "from mrcnn import utils\n",
    "import mrcnn.model as modellib\n",
    "from mrcnn import visualize\n",
    "# Import COCO config\n",
    "sys.path.append(os.path.join(ROOT_DIR, \"samples/coco/\"))  # To find local version\n",
    "import coco\n",
    "\n",
    "%matplotlib inline \n",
    "#delete this line in py file\n",
    "\n",
    "# Directory to save logs and trained model\n",
    "MODEL_DIR = os.path.join(ROOT_DIR, \"logs\")\n",
    "\n",
    "# Local path to trained weights file\n",
    "COCO_MODEL_PATH = os.path.join(ROOT_DIR, \"mask_rcnn_coco.h5\")\n",
    "# Download COCO trained weights from Releases if needed\n",
    "if not os.path.exists(COCO_MODEL_PATH):\n",
    "    utils.download_trained_weights(COCO_MODEL_PATH)\n",
    "\n",
    "class InferenceConfig(coco.CocoConfig):\n",
    "    # Set batch size to 1 since we'll be running inference on\n",
    "    # one image at a time. Batch size = GPU_COUNT * IMAGES_PER_GPU\n",
    "    GPU_COUNT = 1\n",
    "    IMAGES_PER_GPU = 1\n",
    "\n",
    "config = InferenceConfig()\n",
    "\n",
    "# Create model object in inference mode.\n",
    "model = modellib.MaskRCNN(mode=\"inference\", model_dir=MODEL_DIR, config=config)\n",
    "\n",
    "# Load weights trained on MS-COCO\n",
    "model.load_weights(COCO_MODEL_PATH, by_name=True)\n",
    "\n",
    "class_names = ['BG', 'person', 'bicycle', 'car', 'motorcycle', 'airplane',\n",
    "               'bus', 'train', 'truck', 'boat', 'traffic light',\n",
    "               'fire hydrant', 'stop sign', 'parking meter', 'bench', 'bird',\n",
    "               'cat', 'dog', 'horse', 'sheep', 'cow', 'elephant', 'bear',\n",
    "               'zebra', 'giraffe', 'backpack', 'umbrella', 'handbag', 'tie',\n",
    "               'suitcase', 'frisbee', 'skis', 'snowboard', 'sports ball',\n",
    "               'kite', 'baseball bat', 'baseball glove', 'skateboard',\n",
    "               'surfboard', 'tennis racket', 'bottle', 'wine glass', 'cup',\n",
    "               'fork', 'knife', 'spoon', 'bowl', 'banana', 'apple',\n",
    "               'sandwich', 'orange', 'broccoli', 'carrot', 'hot dog', 'pizza',\n",
    "               'donut', 'cake', 'chair', 'couch', 'potted plant', 'bed',\n",
    "               'dining table', 'toilet', 'tv', 'laptop', 'mouse', 'remote',\n",
    "               'keyboard', 'cell phone', 'microwave', 'oven', 'toaster',\n",
    "               'sink', 'refrigerator', 'book', 'clock', 'vase', 'scissors',\n",
    "               'teddy bear', 'hair drier', 'toothbrush']"
   ]
  },
  {
   "cell_type": "code",
   "execution_count": null,
   "metadata": {},
   "outputs": [],
   "source": [
    "data_dirs=[f.name for f in os.scandir(base_path) if not f.name.startswith('.')]"
   ]
  },
  {
   "cell_type": "code",
   "execution_count": null,
   "metadata": {},
   "outputs": [],
   "source": [
    "data_dirs"
   ]
  },
  {
   "cell_type": "code",
   "execution_count": null,
   "metadata": {},
   "outputs": [],
   "source": []
  },
  {
   "cell_type": "markdown",
   "metadata": {},
   "source": [
    "# Make dataset"
   ]
  },
  {
   "cell_type": "code",
   "execution_count": null,
   "metadata": {},
   "outputs": [],
   "source": [
    "def make_dataset():\n",
    "    #This function should be modified if you don't use KITTI dataset!\n",
    "    global number_list,TEMP_DIR\n",
    "    if not TEMP_DIR.endswith('/'):\n",
    "        TEMP_DIR = TEMP_DIR + '/'\n",
    "    number_list=[]\n",
    "    for dataset in data_dirs:\n",
    "        data_year=\"2020\"\n",
    "        data_month=\"06\"\n",
    "        data_date=\"27\"\n",
    "        #Please designate these three variables if you don't use KITTI dataset\n",
    "        IMAGE_DIR=base_path + \"/\"+dataset+ \"/\"\n",
    "        \n",
    "        \n",
    "        file_names=[f.name for f in os.scandir(IMAGE_DIR) if not f.name.startswith('.')]\n",
    "        OUTPUT_DIR1= TEMP_DIR+data_year+\"_\"+data_month+\"_\"+data_date+\"/\"+dataset+'/image_02/data'\n",
    "        \n",
    "        if not os.path.exists(OUTPUT_DIR1+\"/\"):\n",
    "            os.makedirs(OUTPUT_DIR1+\"/\")\n",
    "        make_dataset1(OUTPUT_DIR1,file_names,dataset,IMAGE_DIR)\n",
    "        OUTPUT_DIR2= TEMP_DIR+data_year+\"_\"+data_month+\"_\"+data_date+\"/\"+dataset+'/image_03/data'\n",
    "        \n",
    "        if not os.path.exists(OUTPUT_DIR2+\"/\"):\n",
    "            os.makedirs(OUTPUT_DIR2+\"/\")\n",
    "        make_mask_images(OUTPUT_DIR2,file_names,dataset,IMAGE_DIR)\n",
    "        OUTPUT_TXT_FILE=TEMP_DIR+data_year+\"_\"+data_month+\"_\"+data_date+\"/calib_cam_to_cam.txt\"\n",
    "        \n",
    "        shutil.copyfile(INPUT_TXT_FILE, OUTPUT_TXT_FILE)\n",
    "    \n",
    "    \n",
    "    run_all(file_names)\n",
    "    TXT_RESULT_PATH=OUTPUT_DIR\n",
    "    with open(TXT_RESULT_PATH+\"/train.txt\", mode='w') as f:\n",
    "        f.write('\\n'.join(number_list))\n",
    "        "
   ]
  },
  {
   "cell_type": "code",
   "execution_count": null,
   "metadata": {},
   "outputs": [],
   "source": []
  },
  {
   "cell_type": "code",
   "execution_count": null,
   "metadata": {},
   "outputs": [],
   "source": [
    "def make_dataset1(OUTPUT_DIR1,file_names,dataset,IMAGE_DIR):\n",
    "    for i in range(0,len(file_names)):        \n",
    "        image_file=IMAGE_DIR + file_names[i]\n",
    "        img = cv2.imread(image_file)\n",
    "        \n",
    "        \n",
    "        height, width = img.shape[:2]\n",
    "        \n",
    "        \n",
    "        if (height/width)>(128/416):\n",
    "            print(\"yes\")\n",
    "            small_height=int(height*(416/width))\n",
    "            print(small_height)\n",
    "            img=cv2.resize(img,(416,small_height))\n",
    "            img = img[(small_height//2-64):(small_height//2+64), 0 : 416] \n",
    "            print(img.shape[:2])\n",
    "        else:\n",
    "            small_width=int(width*(128/height))\n",
    "            img=cv2.resize(img,(small_width,128))\n",
    "            img = img[0:128,(small_width//2-208):(small_width//2+208)] \n",
    "            \n",
    "            \n",
    "            \n",
    "        if not os.path.exists(OUTPUT_DIR1):\n",
    "            os.makedirs(OUTPUT_DIR1)\n",
    "        cv2.imwrite(OUTPUT_DIR1 + '/' + file_names[i] + '.jpg', img)"
   ]
  },
  {
   "cell_type": "code",
   "execution_count": null,
   "metadata": {},
   "outputs": [],
   "source": [
    "def make_mask_images(OUTPUT_DIR2,file_names,dataset,IMAGE_DIR):\n",
    "    for i in range(0,len(file_names)):   \n",
    "        image = skimage.io.imread(os.path.join(IMAGE_DIR, file_names[i]))\n",
    "        \n",
    "        \n",
    "        height, width = image.shape[:2]\n",
    "            \n",
    "        if (height/width)>(128/416):\n",
    "            print(\"yes2\")\n",
    "            small_height=int(height*(416/width))\n",
    "            print(small_height)\n",
    "            image=cv2.resize(image,(416,small_height))\n",
    "            image = image[(small_height//2-64):(small_height//2+64), 0 : 416] \n",
    "            print(image.shape[:2])\n",
    "        else:\n",
    "            small_width=int(width*(128/height))\n",
    "            image=cv2.resize(image,(small_width,128))\n",
    "            image = image[0:128,(small_width//2-208):(small_width//2+208)] \n",
    "            \n",
    "            \n",
    "            \n",
    "        # Run detection\n",
    "        results = model.detect([image], verbose=1)\n",
    "        r = results[0]\n",
    "        # Prepare black image\n",
    "        mask_base = np.zeros((image.shape[0],image.shape[1],image.shape[2]),np.uint8)\n",
    "        after_mask_img = image.copy()\n",
    "        color = (10, 10, 10) #white\n",
    "        number_of_objects=len(r['masks'][0,0])\n",
    "        mask_img=mask_base\n",
    "\n",
    "\n",
    "        for j in range(0,number_of_objects):\n",
    "\n",
    "            mask = r['masks'][:, :, j]\n",
    "\n",
    "            mask_img = visualize.apply_mask(mask_base, mask, color,alpha=1)\n",
    "        \n",
    "            if not os.path.exists(OUTPUT_DIR2):\n",
    "                os.makedirs(OUTPUT_DIR2)\n",
    "        cv2.imwrite(OUTPUT_DIR2 + '/' + file_names[i] + '.jpg',mask_img)"
   ]
  },
  {
   "cell_type": "code",
   "execution_count": null,
   "metadata": {},
   "outputs": [],
   "source": [
    "def get_line(file, start):\n",
    "    file = open(file, 'r')\n",
    "    lines = file.readlines()\n",
    "    lines = [line.rstrip() for line in lines]\n",
    "    ret = None\n",
    "    for line in lines:\n",
    "        nline = line.split(': ')\n",
    "        if nline[0]==start:\n",
    "            ret = nline[1].split(' ')\n",
    "            ret = np.array([float(r) for r in ret], dtype=float)\n",
    "            ret = ret.reshape((3,4))[0:3, 0:3]\n",
    "            break\n",
    "    file.close()\n",
    "    return ret"
   ]
  },
  {
   "cell_type": "code",
   "execution_count": null,
   "metadata": {},
   "outputs": [],
   "source": [
    "def crop(img, segimg, fx, fy, cx, cy):\n",
    "    # Perform center cropping, preserving 50% vertically.\n",
    "    middle_perc = 0.50\n",
    "    left = 1-middle_perc\n",
    "    half = left/2\n",
    "    a = img[int(img.shape[0]*(half)):int(img.shape[0]*(1-half)), :]\n",
    "    aseg = segimg[int(segimg.shape[0]*(half)):int(segimg.shape[0]*(1-half)), :]\n",
    "    cy /= (1/middle_perc)\n",
    "\n",
    "    # Resize to match target height while preserving aspect ratio.\n",
    "    wdt = int((128*a.shape[1]/a.shape[0]))\n",
    "    x_scaling = float(wdt)/a.shape[1]\n",
    "    y_scaling = 128.0/a.shape[0]\n",
    "    b = cv2.resize(a, (wdt, 128))\n",
    "    bseg = cv2.resize(aseg, (wdt, 128))\n",
    "\n",
    "    # Adjust intrinsics.\n",
    "    fx*=x_scaling\n",
    "    fy*=y_scaling\n",
    "    cx*=x_scaling\n",
    "    cy*=y_scaling\n",
    "\n",
    "    # Perform center cropping horizontally.\n",
    "    remain = b.shape[1] - 416\n",
    "    cx /= (b.shape[1]/416)\n",
    "    c = b[:, int(remain/2):b.shape[1]-int(remain/2)]\n",
    "    cseg = bseg[:, int(remain/2):b.shape[1]-int(remain/2)]\n",
    "\n",
    "    return c, cseg, fx, fy, cx, cy\n",
    "\n",
    "#the content of this function doesn't affect the result"
   ]
  },
  {
   "cell_type": "code",
   "execution_count": null,
   "metadata": {},
   "outputs": [],
   "source": [
    "def run_all(file_names):\n",
    "    global number_list,OUTPUT_DIR,TEMP_DIR\n",
    "    ct = 0\n",
    "  \n",
    "  \n",
    "    if not OUTPUT_DIR.endswith('/'):\n",
    "        OUTPUT_DIR = OUTPUT_DIR + '/'\n",
    "    \n",
    "\n",
    "    for d in glob.glob(TEMP_DIR+'*/'):\n",
    "        date = d.split('/')[-2]\n",
    "        file_calibration = d + 'calib_cam_to_cam.txt'\n",
    "        calib_raw = [get_line(file_calibration, 'P_rect_02'), get_line(file_calibration, 'P_rect_03')]\n",
    "\n",
    "        for d2 in glob.glob(d + '*/'):\n",
    "            DIR_NAME = d2.split('/')[-2]\n",
    "            if not os.path.exists(OUTPUT_DIR + DIR_NAME +\"/\"):\n",
    "                os.makedirs(OUTPUT_DIR + DIR_NAME +\"/\")\n",
    "            print('Processing sequence', DIR_NAME)\n",
    "            for subfolder in ['image_02/data']:\n",
    "                ct = 1               \n",
    "                calib_camera = calib_raw[0] if subfolder=='image_02/data' else calib_raw[1]\n",
    "                folder = d2 + subfolder\n",
    "                #files = glob.glob(folder + '/*.png')\n",
    "                files = glob.glob(folder + '/*.jpg')\n",
    "                files = [file for file in files if not 'disp' in file and not 'flip' in file and not 'seg' in file]\n",
    "                files = sorted(files)\n",
    "                for i in range(SEQ_LENGTH, len(files)+1, STEPSIZE):\n",
    "                    imgnum = str(ct).zfill(10)\n",
    "                    big_img = np.zeros(shape=(HEIGHT, WIDTH*SEQ_LENGTH, 3))\n",
    "                    wct = 0\n",
    "\n",
    "                    for j in range(i-SEQ_LENGTH, i):  # Collect frames for this sample.\n",
    "                        img = cv2.imread(files[j])\n",
    "                        ORIGINAL_HEIGHT, ORIGINAL_WIDTH, _ = img.shape\n",
    "\n",
    "                        zoom_x = WIDTH/ORIGINAL_WIDTH\n",
    "                        zoom_y = HEIGHT/ORIGINAL_HEIGHT\n",
    "\n",
    "                        # Adjust intrinsics.\n",
    "                        calib_current = calib_camera.copy()\n",
    "                        calib_current[0, 0] *= zoom_x\n",
    "                        calib_current[0, 2] *= zoom_x\n",
    "                        calib_current[1, 1] *= zoom_y\n",
    "                        calib_current[1, 2] *= zoom_y\n",
    "\n",
    "                        calib_representation = ','.join([str(c) for c in calib_current.flatten()])\n",
    "\n",
    "                        img = cv2.resize(img, (WIDTH, HEIGHT))\n",
    "                        big_img[:,wct*WIDTH:(wct+1)*WIDTH] = img\n",
    "                        wct+=1\n",
    "                    cv2.imwrite(OUTPUT_DIR  + DIR_NAME + '/' +  imgnum + '.png', big_img)\n",
    "                    f = open(OUTPUT_DIR  + DIR_NAME + '/' + imgnum + '_cam.txt', 'w')\n",
    "                    f.write(calib_representation)\n",
    "                    f.close()\n",
    "                    ct+=1\n",
    "                    \n",
    "            for subfolder in ['image_03/data']:\n",
    "                ct = 1\n",
    "                calib_camera = calib_raw[0] if subfolder=='image_02/data' else calib_raw[1]\n",
    "                folder = d2 + subfolder\n",
    "                #files = glob.glob(folder + '/*.png')\n",
    "                files = glob.glob(folder + '/*.jpg')\n",
    "                files = [file for file in files if not 'disp' in file and not 'flip' in file and not 'seg' in file]\n",
    "                files = sorted(files)\n",
    "                for i in range(SEQ_LENGTH, len(files)+1, STEPSIZE):\n",
    "                    imgnum = str(ct).zfill(10)\n",
    "                    big_img = np.zeros(shape=(HEIGHT, WIDTH*SEQ_LENGTH, 3))\n",
    "                    wct = 0\n",
    "\n",
    "                    for j in range(i-SEQ_LENGTH, i):  # Collect frames for this sample.\n",
    "                        img = cv2.imread(files[j])\n",
    "                        ORIGINAL_HEIGHT, ORIGINAL_WIDTH, _ = img.shape\n",
    "\n",
    "                        zoom_x = WIDTH/ORIGINAL_WIDTH\n",
    "                        zoom_y = HEIGHT/ORIGINAL_HEIGHT\n",
    "\n",
    "                        # Adjust intrinsics.\n",
    "                        calib_current = calib_camera.copy()\n",
    "                        calib_current[0, 0] *= zoom_x\n",
    "                        calib_current[0, 2] *= zoom_x\n",
    "                        calib_current[1, 1] *= zoom_y\n",
    "                        calib_current[1, 2] *= zoom_y\n",
    "\n",
    "                        calib_representation = ','.join([str(c) for c in calib_current.flatten()])\n",
    "\n",
    "                        img = cv2.resize(img, (WIDTH, HEIGHT))\n",
    "                        big_img[:,wct*WIDTH:(wct+1)*WIDTH] = img\n",
    "                        wct+=1\n",
    "                    #cv2.imwrite(OUTPUT_DIR + seqname + '/' + imgnum + '.png', big_img)\n",
    "                    #f = open(OUTPUT_DIR + seqname + '/' + imgnum + '_cam.txt', 'w')\n",
    "                    cv2.imwrite(OUTPUT_DIR   +DIR_NAME + '/' + imgnum + '-fseg.png', big_img)\n",
    "                    f = open(OUTPUT_DIR  + DIR_NAME + '/' + imgnum + '_cam.txt', 'w')\n",
    "                    number_list.append(DIR_NAME+\" \"+imgnum)\n",
    "                    f.write(calib_representation)\n",
    "                    f.close()\n",
    "                    ct+=1"
   ]
  },
  {
   "cell_type": "code",
   "execution_count": null,
   "metadata": {},
   "outputs": [],
   "source": [
    "make_dataset()"
   ]
  },
  {
   "cell_type": "code",
   "execution_count": null,
   "metadata": {},
   "outputs": [],
   "source": []
  },
  {
   "cell_type": "code",
   "execution_count": null,
   "metadata": {},
   "outputs": [],
   "source": []
  }
 ],
 "metadata": {
  "kernelspec": {
   "display_name": "Python 3",
   "language": "python",
   "name": "python3"
  },
  "language_info": {
   "codemirror_mode": {
    "name": "ipython",
    "version": 3
   },
   "file_extension": ".py",
   "mimetype": "text/x-python",
   "name": "python",
   "nbconvert_exporter": "python",
   "pygments_lexer": "ipython3",
   "version": "3.7.3"
  }
 },
 "nbformat": 4,
 "nbformat_minor": 2
}
